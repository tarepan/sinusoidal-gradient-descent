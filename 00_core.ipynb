{
 "cells": [
  {
   "attachments": {},
   "cell_type": "markdown",
   "metadata": {},
   "source": [
    "## Amplitude Estimation"
   ]
  },
  {
   "cell_type": "code",
   "execution_count": null,
   "metadata": {
    "vscode": {
     "languageId": "python"
    }
   },
   "outputs": [
    {
     "data": {
      "text/plain": [
       "tensor([[0.0525, 0.0681, 0.0640, 0.0530, 0.0635, 0.0679],\n",
       "        [0.0522, 0.0522, 0.0522, 0.0517, 0.0528, 0.0648]])"
      ]
     },
     "execution_count": null,
     "metadata": {},
     "output_type": "execute_result"
    }
   ],
   "source": [
    "amp, N = 0.99, 2048\n",
    "z = amp * torch.exp(1j * torch.rand(2, 6))\n",
    "\n",
    "estimate_amplitude(z, N, representation=\"lin\")"
   ]
  }
 ],
 "metadata": {
  "kernelspec": {
   "display_name": "Python 3.9.13 ('sin-gd')",
   "language": "python",
   "name": "python3"
  }
 },
 "nbformat": 4,
 "nbformat_minor": 4
}
