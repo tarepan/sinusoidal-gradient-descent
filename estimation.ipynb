{
 "cells": [
  {
   "attachments": {},
   "cell_type": "markdown",
   "metadata": {},
   "source": [
    "# Difficulty of Frequency Estimation\n",
    "Frequency estimation by gradient descent has difficulty related to local minima."
   ]
  },
  {
   "attachments": {},
   "cell_type": "markdown",
   "metadata": {},
   "source": [
    "## Frequency Estimation by Real Oscillator\n",
    "In most case, this will failed to local minima."
   ]
  },
  {
   "cell_type": "code",
   "execution_count": null,
   "metadata": {
    "vscode": {
     "languageId": "python"
    }
   },
   "outputs": [
    {
     "name": "stdout",
     "output_type": "stream",
     "text": [
      "Starting frequency: 1.002\n",
      "--- Step: 1000 ---\n",
      "Predicted frequency: 0.969\n",
      "Target frequency: 0.250\n",
      "--- Step: 2000 ---\n",
      "Predicted frequency: 0.969\n",
      "Target frequency: 0.250\n",
      "--- Step: 3000 ---\n",
      "Predicted frequency: 0.969\n",
      "Target frequency: 0.250\n",
      "--- Step: 4000 ---\n",
      "Predicted frequency: 0.969\n",
      "Target frequency: 0.250\n",
      "--- Step: 5000 ---\n",
      "Predicted frequency: 0.969\n",
      "Target frequency: 0.250\n"
     ]
    }
   ],
   "source": [
    "import math\n",
    "import torch\n",
    "\n",
    "\n",
    "N = 64\n",
    "n = torch.arange(N)\n",
    "\n",
    "torch.random.manual_seed(1000)\n",
    "predicted_freq = (torch.rand(1) * math.pi).requires_grad_()\n",
    "print(f\"Starting frequency: {predicted_freq.item():.3f}\")\n",
    "\n",
    "target_freq = torch.tensor(0.25)\n",
    "target_signal = torch.cos(target_freq * n)\n",
    "\n",
    "criterion = torch.nn.MSELoss()\n",
    "optimiser = torch.optim.SGD([predicted_freq], lr=3e-4)\n",
    "\n",
    "for step in range(5000):\n",
    "    predicted_signal = torch.cos(predicted_freq * n)\n",
    "    loss = criterion(predicted_signal, target_signal)\n",
    "\n",
    "    optimiser.zero_grad()\n",
    "    loss.backward()\n",
    "    optimiser.step()\n",
    "\n",
    "    if (step + 1) % 1000 == 0:\n",
    "        print(f\"--- Step: {step + 1} ---\")\n",
    "        print(f\"Predicted frequency: {predicted_freq.item():.3f}\")\n",
    "        print(f\"Target frequency: {target_freq.item():.3f}\")"
   ]
  },
  {
   "attachments": {},
   "cell_type": "markdown",
   "metadata": {},
   "source": [
    "## Frequency Estimation by Complex Oscillator\n",
    "This alomost always converge to global minima."
   ]
  },
  {
   "cell_type": "code",
   "execution_count": null,
   "metadata": {
    "vscode": {
     "languageId": "python"
    }
   },
   "outputs": [
    {
     "name": "stdout",
     "output_type": "stream",
     "text": [
      "Starting frequency: 1.002\n",
      "--- Step: 1000 ---\n",
      "Predicted frequency: 0.952\n",
      "Target frequency: 0.250\n",
      "--- Step: 2000 ---\n",
      "Predicted frequency: 0.549\n",
      "Target frequency: 0.250\n",
      "--- Step: 3000 ---\n",
      "Predicted frequency: 0.241\n",
      "Target frequency: 0.250\n",
      "--- Step: 4000 ---\n",
      "Predicted frequency: 0.250\n",
      "Target frequency: 0.250\n",
      "--- Step: 5000 ---\n",
      "Predicted frequency: 0.250\n",
      "Target frequency: 0.250\n"
     ]
    }
   ],
   "source": [
    "from sinusoidal_gradient_descent.core import complex_oscillator\n",
    "\n",
    "\n",
    "N = 64\n",
    "n = torch.arange(N)\n",
    "\n",
    "torch.random.manual_seed(1000)\n",
    "starting_freq = torch.rand(1) * math.pi\n",
    "predicted_z = torch.exp(1j * starting_freq)\n",
    "predicted_z.detach_().requires_grad_(True)\n",
    "print(f\"Starting frequency: {predicted_z.angle().abs().item():.3f}\")\n",
    "\n",
    "target_freq = torch.tensor(0.25)\n",
    "target_signal = torch.cos(target_freq * n)\n",
    "\n",
    "criterion = torch.nn.MSELoss()\n",
    "optimiser = torch.optim.SGD([predicted_z], lr=3e-4)\n",
    "\n",
    "for step in range(5000):\n",
    "    predicted_signal = complex_oscillator(predicted_z, N=N).sum(dim=-2)\n",
    "    loss = criterion(predicted_signal, target_signal)\n",
    "\n",
    "    optimiser.zero_grad()\n",
    "    loss.backward()\n",
    "    predicted_z.grad = predicted_z.grad / predicted_z.grad.abs()\n",
    "    optimiser.step()\n",
    "\n",
    "    if (step + 1) % 1000 == 0:\n",
    "        print(f\"--- Step: {step + 1} ---\")\n",
    "        print(f\"Predicted frequency: {predicted_z.angle().abs().item():.3f}\")\n",
    "        print(f\"Target frequency: {target_freq.item():.3f}\")"
   ]
  }
 ],
 "metadata": {
  "kernelspec": {
   "display_name": "Python 3.9.13 ('sin-gd')",
   "language": "python",
   "name": "python3"
  }
 },
 "nbformat": 4,
 "nbformat_minor": 4
}
